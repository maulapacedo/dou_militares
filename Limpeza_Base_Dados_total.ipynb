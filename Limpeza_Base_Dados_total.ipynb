{
 "cells": [
  {
   "cell_type": "markdown",
   "id": "d21e5744-2096-45d1-8fc4-8e3d04479e5c",
   "metadata": {},
   "source": [
    "# Limpeza da Base de Dados para extrair país, cidade, tipo de afastamento, patente e período de afastamento."
   ]
  },
  {
   "cell_type": "code",
   "execution_count": 7,
   "id": "2f49841b-df2b-43e4-be99-59165e9af33c",
   "metadata": {},
   "outputs": [],
   "source": [
    "import re\n",
    "import pandas as pd\n",
    "from bs4 import BeautifulSoup"
   ]
  },
  {
   "cell_type": "code",
   "execution_count": 9,
   "id": "0fbc548e-fdc6-48b0-9eed-10a1a5b28e5c",
   "metadata": {},
   "outputs": [],
   "source": [
    "# Carregando os dados\n",
    "dados_diario_uniao_militares_afastamentos = pd.read_excel(r\"C:\\Users\\paula\\OneDrive\\IPEA\\Militares_2\\bases\\dados_diario_uniao_militares_afastamentos.xlsx\")\n",
    "\n",
    "# Armazenando uma cópia do texto original em uma coluna temporária\n",
    "dados_diario_uniao_militares_afastamentos['Texto_Reduzido'] = dados_diario_uniao_militares_afastamentos['Texto']\n",
    "\n",
    "# Convertendo o texto para minúsculas apenas para o filtro\n",
    "dados_diario_uniao_militares_afastamentos['Texto_filtro'] = dados_diario_uniao_militares_afastamentos['Texto'].str.lower()\n",
    "\n",
    "# Filtrando o DataFrame para manter apenas as observações que contenham as palavras específicas\n",
    "filtro = dados_diario_uniao_militares_afastamentos['Texto_filtro'].str.contains('nomear|autorizar|designar', case=False)\n",
    "dados_filtrados_total = dados_diario_uniao_militares_afastamentos[filtro].copy()\n",
    "\n",
    "# Removendo a coluna de filtro\n",
    "dados_filtrados_total.drop(columns=['Texto_filtro'], inplace=True)\n",
    "\n",
    "# Removendo linhas onde a coluna artCategory contém \"UNIVERSIDADE\"\n",
    "dados_filtrados_total = dados_filtrados_total[~dados_filtrados_total['artCategory'].str.contains('UNIVERSIDADE', case=False, na=False)]"
   ]
  },
  {
   "cell_type": "code",
   "execution_count": 10,
   "id": "fdfdc1d3-1b1e-4eb6-93cb-05ed4291447d",
   "metadata": {},
   "outputs": [],
   "source": [
    "# Função para extrair o texto das tags <p> com as classes 'identifica pdf-CENTER' e 'identifica'\n",
    "def extrair_identificacao(texto_html):\n",
    "    soup = BeautifulSoup(texto_html, 'html.parser')\n",
    "    identificacoes = soup.find_all('p', class_=lambda x: x and 'identifica' in x.split())\n",
    "    texto_identificacao = ''\n",
    "    for identificacao in identificacoes:\n",
    "        texto_identificacao += identificacao.get_text(strip=True) + '\\n'\n",
    "        identificacao.decompose()  # Remover a identificação do texto original\n",
    "    return texto_identificacao.strip()\n",
    "\n",
    "# Função para extrair o texto reduzido, sem a identificação\n",
    "def extrair_texto_reduzido(texto_html):\n",
    "    soup = BeautifulSoup(texto_html, 'html.parser')\n",
    "    # Remover as tags <p> com as classes 'identifica pdf-CENTER' e 'identifica' do texto\n",
    "    for identificacao in soup.find_all('p', class_=lambda x: x and 'identifica' in x.split()):\n",
    "        identificacao.decompose()\n",
    "    texto_reduzido = soup.get_text(separator='\\n', strip=True)\n",
    "    return texto_reduzido.strip()\n",
    "\n",
    "# Aplicar as funções para criar as variáveis Portaria_Especifica e Texto_Reduzido\n",
    "dados_filtrados_total['Portaria_Especifica'] = dados_filtrados_total['Texto'].apply(extrair_identificacao)\n",
    "dados_filtrados_total['Texto_Reduzido'] = dados_filtrados_total['Texto'].apply(extrair_texto_reduzido)"
   ]
  },
  {
   "cell_type": "code",
   "execution_count": 11,
   "id": "71c8f569-b312-4961-a2fc-2598f654260f",
   "metadata": {},
   "outputs": [],
   "source": [
    "# Salvando os resultados em um arquivo Excel\n",
    "pasta_base = \"C:/Users/paula/OneDrive/IPEA/Militares_2/bases\"\n",
    "dados_filtrados_total.to_excel(f\"{pasta_base}/dados_filtrados_total.xlsx\", index=False)"
   ]
  },
  {
   "cell_type": "markdown",
   "id": "4f2b6557-633d-47c2-8d7a-db6ddfed5038",
   "metadata": {},
   "source": [
    "### Filtrando a coluna para que as portarias repitidas em uma unica célula sejam consideradas parte do df"
   ]
  },
  {
   "cell_type": "code",
   "execution_count": 12,
   "id": "7739ecd5-4bb3-4287-af55-08b0290c9be3",
   "metadata": {},
   "outputs": [],
   "source": [
    "# Função para contar o número de ocorrências de 'nomear', 'autorizar' ou 'designar' no texto original\n",
    "def contar_ocorrencias_reduzido(texto):\n",
    "    padrao = re.compile(r'\\b(nomear|autorizar|designar|autoriza)\\b', re.IGNORECASE)\n",
    "    return len(re.findall(padrao, texto))\n",
    "\n",
    "# Adicionando uma nova coluna com o número de ocorrências\n",
    "dados_filtrados_total['n_contagem_texto_original'] = dados_filtrados_total['Texto_Reduzido'].apply(contar_ocorrencias_reduzido)\n",
    "\n",
    "# Salvando os resultados em um arquivo Excel\n",
    "pasta_base = \"C:/Users/paula/OneDrive/IPEA/Militares_2/bases\"\n",
    "dados_filtrados_total.to_excel(f\"{pasta_base}/dados_filtrados_total.xlsx\", index=False)"
   ]
  },
  {
   "cell_type": "code",
   "execution_count": 13,
   "id": "79b11110-87ec-440b-ad20-1c65af3b4e8e",
   "metadata": {},
   "outputs": [],
   "source": [
    "# Padrao da Divisao de Portarias \n",
    "pattern = r'(O\\s+(?:CHEFE\\s+DO\\s+ESTADO-MAIOR\\s+DA\\s+ARMADA|MINISTRO\\s+DE\\s+ESTADO\\s+DA\\s+DEFESA|CHEFE\\s+DO\\s+ESTADO-MAIOR\\s+CONJUNTO\\s+DAS\\s+FORÇAS\\s+ARMADAS|DIRETOR-GERAL\\s+DO\\s+MATERIAL\\s+DA\\s+MARINHA|SECRETÁRIO-GERAL\\s+DO\\s+MINISTÉRIO\\s+DA\\s+DEFESA|DIRETOR-GERAL\\s+DE\\s+DESENVOLVIMENTO\\s+NUCLEAR\\s+E\\s+TECNOLÓGICO\\s+DA\\s+MARINHA|COMANDANTE\\s+DA\\s+MARINHA|DIRETOR-GERAL\\s+DE\\s+NAVEGAÇÃO|COMANDANTE\\s+DO\\s+EXÉRCITO|COMANDANTE\\s+DA\\s+ESCOLA\\s+SUPERIOR\\s+DE\\s+GUERRA|CHEFE\\s+DO\\s+ESTADO-MAIOR\\s+DA\\s+AERONÁUTICA|CHEFE\\s+DE\\s+GABINETE\\s+DO\\s+MINISTRO\\s+DE\\s+ESTADO\\s+DA\\s+DEFESA|COMANDANTE\\s+DA\\s+AERONÁUTICA))'\n",
    "\n",
    "# Função para separar as portarias\n",
    "def split_portarias(df, text_column, pattern):\n",
    "    rows = []\n",
    "    for index, row in df.iterrows():\n",
    "        text = row[text_column]\n",
    "        # Encontrar todas as correspondências do padrão\n",
    "        matches = list(re.finditer(pattern, text))\n",
    "        \n",
    "        if not matches:\n",
    "            # Se não houver correspondências, adicionar a linha original\n",
    "            rows.append(row)\n",
    "            continue\n",
    "        \n",
    "        # Adicionar a última posição para capturar o texto final\n",
    "        positions = [match.start() for match in matches] + [len(text)]\n",
    "        \n",
    "        for i in range(len(positions) - 1):\n",
    "            start = positions[i]\n",
    "            end = positions[i + 1]\n",
    "            portaria = text[start:end].strip()\n",
    "            new_row = row.copy()\n",
    "            new_row[text_column] = portaria\n",
    "            rows.append(new_row)\n",
    "    return pd.DataFrame(rows)"
   ]
  },
  {
   "cell_type": "code",
   "execution_count": 15,
   "id": "98d60421-ffb4-4c7a-b9b2-60703e22d4ce",
   "metadata": {},
   "outputs": [],
   "source": [
    "# Atualizar o DataFrame com as novas linhas\n",
    "dados_filtrados_split = split_portarias(dados_filtrados_total, 'Texto_Reduzido', pattern)"
   ]
  },
  {
   "cell_type": "code",
   "execution_count": 17,
   "id": "d189a9df-7684-4f4f-b282-bc53d5c86f33",
   "metadata": {},
   "outputs": [],
   "source": [
    "# Função para contar o número de ocorrências de 'nomear', 'autorizar' ou 'designar' nos novos textos\n",
    "def contar_ocorrencias_reduzido(texto):\n",
    "    padrao = re.compile(r'\\b(nomear|autorizar|designar|autoriza)\\b', re.IGNORECASE)\n",
    "    return len(re.findall(padrao, texto))\n",
    "\n",
    "# Adicionando uma nova coluna com o número de ocorrências\n",
    "dados_filtrados_split['n_contagem_texto_split'] = dados_filtrados_split['Texto_Reduzido'].apply(contar_ocorrencias_reduzido)"
   ]
  },
  {
   "cell_type": "code",
   "execution_count": 18,
   "id": "3c720a96-5f36-46d9-93e2-c1f34d785aba",
   "metadata": {},
   "outputs": [],
   "source": [
    "# Salvando os resultados em um arquivo Excel\n",
    "pasta_base = \"C:/Users/paula/OneDrive/IPEA/Militares_2/bases\"\n",
    "dados_filtrados_split.to_excel(f\"{pasta_base}/dados_filtrados_split.xlsx\", index=False)"
   ]
  },
  {
   "cell_type": "markdown",
   "id": "737d0c5d-fb99-42cb-b267-997c83ceaf13",
   "metadata": {},
   "source": [
    "### Limpando a variavel Texto_Reduzido"
   ]
  },
  {
   "cell_type": "code",
   "execution_count": 22,
   "id": "073a8175-95b0-4ee0-aee1-f85ee179d8c9",
   "metadata": {},
   "outputs": [],
   "source": [
    "# Filtrar linhas com contagem diferente de zero\n",
    "dados_filtrados_split = dados_filtrados_split[dados_filtrados_split['n_contagem_texto_split'] != 0]\n",
    "\n",
    "# Remover quebras de linha do Texto_Reduzido e substituir por espaços\n",
    "dados_filtrados_split['Texto_Reduzido'] = dados_filtrados_split['Texto_Reduzido'].str.replace('\\n', ' ')"
   ]
  },
  {
   "cell_type": "code",
   "execution_count": 23,
   "id": "ff2d6af1-3448-4474-a29f-a302ec58abbc",
   "metadata": {},
   "outputs": [],
   "source": [
    "# Salvando os resultados em um arquivo Excel\n",
    "pasta_base = \"C:/Users/paula/OneDrive/IPEA/Militares_2/bases\"\n",
    "dados_filtrados_split.to_excel(f\"{pasta_base}/base_afastamentos_militares_final.xlsx\", index=False)"
   ]
  },
  {
   "cell_type": "markdown",
   "id": "f539a72b-4e6d-47fc-af0c-fea7a8c4a2e8",
   "metadata": {},
   "source": [
    "### Tratar Base Final e Transformar em texto para Treinamento do Modelo"
   ]
  },
  {
   "cell_type": "code",
   "execution_count": 24,
   "id": "23315ee6-52b2-4654-87db-9bf999ea053d",
   "metadata": {},
   "outputs": [
    {
     "name": "stdout",
     "output_type": "stream",
     "text": [
      "Base de dados tratada e arquivo de texto único gerados com sucesso.\n"
     ]
    }
   ],
   "source": [
    "# Carrega a base de dados\n",
    "caminho_arquivo = \"C:/Users/paula/OneDrive/IPEA/Militares_2/bases/base_afastamentos_militares_final.xlsx\"\n",
    "base_afastamentos_militares_final = pd.read_excel(caminho_arquivo)\n",
    "\n",
    "# Concatenar todos os textos tratados em uma única string\n",
    "texto_unico = '\\n'.join(filter(lambda texto: texto is not None, base_afastamentos_militares_final['Texto_Reduzido']))\n",
    "\n",
    "# Escolha um nome para o arquivo de texto único\n",
    "nome_arquivo_txt = \"C:/Users/paula/OneDrive/IPEA/Militares_2/texto_tratado_unico_final.txt\"\n",
    "\n",
    "# Salvar a string em um arquivo de texto\n",
    "with open(nome_arquivo_txt, 'w', encoding='utf-8') as arquivo_txt:\n",
    "    arquivo_txt.write(texto_unico)\n",
    "\n",
    "print(\"Base de dados tratada e arquivo de texto único gerados com sucesso.\")"
   ]
  },
  {
   "cell_type": "markdown",
   "id": "2abf77f0-4bba-48bd-9525-35610899d0d2",
   "metadata": {},
   "source": [
    "### Criar as bases separadas: NOMEAR, DESIGNAR E AUTORIZAR"
   ]
  },
  {
   "cell_type": "code",
   "execution_count": 26,
   "id": "0e331152-b1e3-4be3-947c-c869baa079e4",
   "metadata": {},
   "outputs": [
    {
     "name": "stdout",
     "output_type": "stream",
     "text": [
      "Número de células com duas ou mais ocorrências diferentes: 52\n",
      "                                                   Texto\n",
      "159    <p class='identifica pdf-CENTER'>PORTARIAS DE ...\n",
      "204    <p class='identifica pdf-CENTER'>PORTARIAS GAB...\n",
      "267    <p class='identifica pdf-CENTER'>PORTARIAS SPE...\n",
      "957    <p class='identifica pdf-CENTER'>PORTARIAS DAC...\n",
      "1459   <p class='identifica pdf-CENTER'>PORTARIAS DE ...\n",
      "1656   <p class='identifica pdf-CENTER'>DESPACHOS DO ...\n",
      "2062   <p class='identifica pdf-CENTER'>PORTARIAS DE ...\n",
      "2662   <p class='identifica pdf-CENTER'>Nº924 - NOMEA...\n",
      "2967   <p class='identifica pdf-CENTER'>PORTARIAS DE ...\n",
      "3121   <p class='identifica pdf-CENTER'>ANEXO A</p>\\n...\n",
      "3122   <p class='identifica pdf-CENTER'>ANEXO B</p>\\n...\n",
      "3124   <p class='identifica pdf-CENTER'>ANEXO D</p>\\n...\n",
      "3125   <p class='identifica pdf-CENTER'>ANEXO E</p>\\n...\n",
      "3126   <p class='identifica pdf-CENTER'>ANEXO F</p>\\n...\n",
      "3471   <p class='identifica pdf-CENTER'>PORTARIAS DE ...\n",
      "3477   <p class='identifica pdf-CENTER'>PORTARIA Nº 1...\n",
      "3854   <p class='identifica pdf-CENTER'>PORTARIAS DE ...\n",
      "3889   <p class='identifica pdf-CENTER'>PORTARIAS DE ...\n",
      "3950   <p class='identifica pdf-CENTER'>PORTARIAS DE ...\n",
      "4386   <p class='identifica pdf-CENTER'>PORTARIAS MD ...\n",
      "4480   <p class='identifica pdf-CENTER'>PORTARIAS DE ...\n",
      "4522   <p class='identifica pdf-CENTER'>PORTARIAS DE ...\n",
      "4562   <p class='identifica pdf-CENTER'>PORTARIAS DE ...\n",
      "4602   <p class='identifica pdf-CENTER'>PORTARIAS DE ...\n",
      "4693   <p class='identifica pdf-CENTER'>PORTARIAS DE ...\n",
      "6191   <p class='identifica pdf-CENTER'>PORTARIAS MD ...\n",
      "7307   <p class='identifica pdf-CENTER'>PORTARIAS MD ...\n",
      "8162   <p class='identifica pdf-CENTER'>PORTARIAS/MD,...\n",
      "8250   <p class='identifica pdf-CENTER'>PORTARIAS SG ...\n",
      "8259   <p class='identifica pdf-CENTER'>PORTARIAS/SG,...\n",
      "8275   <p class='identifica pdf-CENTER'>DESPACHOS DO ...\n",
      "8321   <p class='identifica pdf-CENTER'>PORTARIAS/EMC...\n",
      "8338   <p class='identifica pdf-CENTER'>PORTARIAS EMC...\n",
      "8383   <p class='identifica pdf-CENTER'>PORTARIA Nº 3...\n",
      "9033   <p class='identifica pdf-CENTER'>PORTARIAS/EMC...\n",
      "9925   <p class='identifica pdf-CENTER'>PORTARIAS/EMC...\n",
      "11172  <p class='identifica pdf-CENTER'>PORTARIA Nº 4...\n",
      "11505  <p class='identifica pdf-CENTER'>PORTARIAS DE ...\n",
      "11509  <p class='identifica pdf-CENTER'>PORTARIAS DE ...\n",
      "11510  <p class='identifica pdf-CENTER'>PORTARIAS DE ...\n",
      "11711  <p class='identifica pdf-CENTER'>PORTARIAS DE ...\n",
      "12245  <p class='identifica pdf-CENTER'>PORTARIA Nº 4...\n",
      "12259  <p class='identifica pdf-CENTER'>PORTARIA Nº 5...\n",
      "12298  <p class='identifica pdf-CENTER'>PORTARIA Nº 7...\n",
      "12356  <p class='identifica pdf-CENTER'>PORTARIA Nº 1...\n",
      "12427  <p class='identifica pdf-CENTER'>PORTARIA Nº 1...\n",
      "12768  <p class='identifica pdf-CENTER'>PORTARIA Nº 2...\n",
      "13353  <p class=\"identifica\">PORTARIA Nº 204/DGDNTM, ...\n",
      "14046  <p class=\"identifica\">PORTARIA Nº 335/CTMSP, D...\n",
      "14097  <p class=\"identifica\">PORTARIA Nº 335/CTMSP, D...\n",
      "14257  <p class=\"identifica\">PORTARIA Nº 267/CTMSP, D...\n",
      "14352  <p class=\"identifica\">PORTARIA Nº 17/DGDNTM, D...\n"
     ]
    }
   ],
   "source": [
    "# Carregar a base de dados tratada\n",
    "caminho_arquivo_tratado = \"C:/Users/paula/OneDrive/IPEA/Militares_2/bases/base_afastamentos_militares_final.xlsx\"\n",
    "base_tratada = pd.read_excel(caminho_arquivo_tratado)\n",
    "\n",
    "# Função para verificar se uma célula contém duas ou mais palavras-chave diferentes\n",
    "def contem_multiplas_ocorrencias_diferentes(texto):\n",
    "    palavras_chave = ['AUTORIZAR', 'AUTORIZA', 'NOMEAR', 'DESIGNAR']\n",
    "    ocorrencias = set()\n",
    "    \n",
    "    for palavra in palavras_chave:\n",
    "        if re.search(rf'\\b{palavra}\\b', texto, re.IGNORECASE):\n",
    "            ocorrencias.add(palavra)\n",
    "    \n",
    "    return len(ocorrencias) > 1\n",
    "\n",
    "# Aplicar a função para encontrar células com múltiplas ocorrências diferentes\n",
    "multiplas_ocorrencias_diferentes = base_tratada[base_tratada['Texto_Reduzido'].apply(contem_multiplas_ocorrencias_diferentes)]\n",
    "\n",
    "# Exibir o resultado\n",
    "print(f\"Número de células com duas ou mais ocorrências diferentes: {len(multiplas_ocorrencias_diferentes)}\")\n",
    "print(multiplas_ocorrencias_diferentes[['Texto']])"
   ]
  },
  {
   "cell_type": "code",
   "execution_count": null,
   "id": "8e0a29c1-85fb-4a95-8670-61b02d730bbe",
   "metadata": {},
   "outputs": [],
   "source": [
    "\n",
    "# Função para filtrar o texto com base em palavras-chave\n",
    "def filtrar_por_palavra_chave(df, palavra_chave):\n",
    "    return df[df['Texto'].str.contains(palavra_chave, case=False, na=False)]\n",
    "\n",
    "# Filtra as portarias que contêm \"NOMEAR\"\n",
    "base_nomear = filtrar_por_palavra_chave(base_tratada, 'NOMEAR')\n",
    "\n",
    "# Filtra as portarias que contêm \"DESIGNAR\"\n",
    "base_designar = filtrar_por_palavra_chave(base_tratada, 'DESIGNAR')\n",
    "\n",
    "# Filtra as portarias que contêm \"AUTORIZAR\" ou \"AUTORIZA\"\n",
    "base_autorizar = base_tratada[base_tratada['Texto'].str.contains('AUTORIZAR|AUTORIZA', case=False, na=False)]\n",
    "\n",
    "# Remove duplicatas após a filtragem para evitar contar linhas repetidas\n",
    "base_filtrada_unica = pd.concat([base_nomear, base_designar, base_autorizar]).drop_duplicates()\n",
    "\n",
    "# Salvar as novas bases de dados\n",
    "caminho_base_nomear = \"C:/Users/paula/OneDrive/IPEA/Militares_2/base_nomear.xlsx\"\n",
    "caminho_base_designar = \"C:/Users/paula/OneDrive/IPEA/Militares_2/base_designar.xlsx\"\n",
    "caminho_base_autorizar = \"C:/Users/paula/OneDrive/IPEA/Militares_2/base_autorizar.xlsx\"\n",
    "\n",
    "base_nomear.to_excel(caminho_base_nomear, index=False)\n",
    "base_designar.to_excel(caminho_base_designar, index=False)\n",
    "base_autorizar.to_excel(caminho_base_autorizar, index=False)\n",
    "\n",
    "# Calcular as perdas de linhas\n",
    "total_linhas_original = len(base_tratada)\n",
    "total_linhas_filtradas_unicas = len(base_filtrada_unica)\n",
    "linhas_perdidas = total_linhas_original - total_linhas_filtradas_unicas\n",
    "\n",
    "# Imprimir resultados\n",
    "print(f\"Total de linhas na base original: {total_linhas_original}\")\n",
    "print(f\"Total de linhas após filtragem (únicas): {total_linhas_filtradas_unicas}\")\n",
    "print(f\"Linhas perdidas: {linhas_perdidas}\")\n",
    "print(\"Bases de dados filtradas foram salvas com sucesso.\")"
   ]
  }
 ],
 "metadata": {
  "kernelspec": {
   "display_name": "Python 3 (ipykernel)",
   "language": "python",
   "name": "python3"
  },
  "language_info": {
   "codemirror_mode": {
    "name": "ipython",
    "version": 3
   },
   "file_extension": ".py",
   "mimetype": "text/x-python",
   "name": "python",
   "nbconvert_exporter": "python",
   "pygments_lexer": "ipython3",
   "version": "3.12.2"
  }
 },
 "nbformat": 4,
 "nbformat_minor": 5
}
