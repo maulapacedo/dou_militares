{
 "cells": [
  {
   "cell_type": "code",
   "execution_count": 3,
   "id": "33e6dbf0-11b0-4eb6-98f0-468994341b8a",
   "metadata": {},
   "outputs": [],
   "source": [
    "# Installing spacy\n",
    "!pip install -U spacy -q"
   ]
  },
  {
   "cell_type": "code",
   "execution_count": 4,
   "id": "1fa84872-1fe9-4afb-9d6e-5cdd50983041",
   "metadata": {},
   "outputs": [
    {
     "name": "stdout",
     "output_type": "stream",
     "text": [
      "\u001b[1m\n",
      "============================== Info about spaCy ==============================\u001b[0m\n",
      "\n",
      "spaCy version    3.7.4                         \n",
      "Location         C:\\Users\\paula\\AppData\\Roaming\\Python\\Python312\\site-packages\\spacy\n",
      "Platform         Windows-11-10.0.22631-SP0     \n",
      "Python version   3.12.2                        \n",
      "Pipelines        pt_core_news_sm (3.7.0)       \n",
      "\n"
     ]
    }
   ],
   "source": [
    "# Getting info spacy\n",
    "!python -m spacy info"
   ]
  },
  {
   "cell_type": "code",
   "execution_count": 5,
   "id": "a6f25702-e186-4b81-b90b-786599bd9f05",
   "metadata": {},
   "outputs": [],
   "source": [
    "# Loading packages \n",
    "import spacy \n",
    "from spacy.tokens import DocBin\n",
    "from tqdm import tqdm \n",
    "\n",
    "nlp = spacy.blank(\"pt\") #loading new spacy model\n",
    "db = DocBin() # creating a DocBin object"
   ]
  },
  {
   "cell_type": "code",
   "execution_count": 4,
   "id": "6d05e8c1-8879-4584-a1d0-b1fed83caa1d",
   "metadata": {},
   "outputs": [],
   "source": [
    "# Loading Train_Model\n",
    "import json\n",
    "with open('C:/Users/paula/OneDrive/IPEA/Militares_2/annotations.json', encoding='utf-8') as f:\n",
    "    TRAIN_DATA = json.load(f)"
   ]
  },
  {
   "cell_type": "code",
   "execution_count": 8,
   "id": "61608aef-c386-420b-a3fa-a2937e4c4275",
   "metadata": {},
   "outputs": [
    {
     "name": "stderr",
     "output_type": "stream",
     "text": [
      " 40%|███████████████████████████████▉                                               | 161/399 [00:00<00:00, 532.13it/s]"
     ]
    },
    {
     "name": "stdout",
     "output_type": "stream",
     "text": [
      "Skipping NoneType annotation data\n",
      "Skipping NoneType annotation data\n",
      "Skipping NoneType annotation data\n"
     ]
    },
    {
     "name": "stderr",
     "output_type": "stream",
     "text": [
      " 67%|█████████████████████████████████████████████████████▎                         | 269/399 [00:00<00:00, 521.86it/s]"
     ]
    },
    {
     "name": "stdout",
     "output_type": "stream",
     "text": [
      "Skipping NoneType annotation data\n",
      "Skipping NoneType annotation data\n",
      "Skipping NoneType annotation data\n"
     ]
    },
    {
     "name": "stderr",
     "output_type": "stream",
     "text": [
      "100%|███████████████████████████████████████████████████████████████████████████████| 399/399 [00:00<00:00, 540.52it/s]\n"
     ]
    }
   ],
   "source": [
    "# Transforming the json file into a spaCy file\n",
    "for annotation_data in tqdm(TRAIN_DATA['annotations']):\n",
    "    if annotation_data is None:\n",
    "        print(\"Skipping NoneType annotation data\")\n",
    "        continue\n",
    "\n",
    "    if len(annotation_data) != 2:\n",
    "        print(\"Invalid annotation data format:\", annotation_data)\n",
    "        continue\n",
    "\n",
    "    text = annotation_data[0]\n",
    "    annot = annotation_data[1]\n",
    "    doc = nlp.make_doc(text)\n",
    "    ents = []\n",
    "    for start, end, label in annot.get(\"entities\", []):\n",
    "        span = doc.char_span(start, end, label=label, alignment_mode=\"contract\")\n",
    "        if span is None:\n",
    "            print(\"Skipping entity\")\n",
    "        else:\n",
    "            ents.append(span)\n",
    "    doc.ents = ents\n",
    "    db.add(doc)\n",
    "\n",
    "db.to_disk(\"./training_data.spacy\") #saving the docbin object "
   ]
  },
  {
   "cell_type": "code",
   "execution_count": 15,
   "id": "8b4d8e51-a0b9-4701-abad-8ece052bc7fa",
   "metadata": {},
   "outputs": [
    {
     "name": "stdout",
     "output_type": "stream",
     "text": [
      "\u001b[38;5;2m[+] Auto-filled config with all values\u001b[0m\n",
      "\u001b[38;5;2m[+] Saved config\u001b[0m\n",
      "config.cfg\n",
      "You can now add your data and train your pipeline:\n",
      "python -m spacy train config.cfg --paths.train ./train.spacy --paths.dev ./dev.spacy\n"
     ]
    }
   ],
   "source": [
    "!python -m spacy init fill-config base_config.cfg config.cfg"
   ]
  },
  {
   "cell_type": "code",
   "execution_count": 1,
   "id": "8595b499-1dde-4cbb-9007-a6c145973b51",
   "metadata": {},
   "outputs": [
    {
     "name": "stdout",
     "output_type": "stream",
     "text": [
      "^C\n",
      "\u001b[38;5;4m[i] Saving to output directory: .\u001b[0m\n",
      "\u001b[38;5;4m[i] Using CPU\u001b[0m\n",
      "\u001b[1m\n",
      "=========================== Initializing pipeline ===========================\u001b[0m\n",
      "\u001b[38;5;2m[+] Initialized pipeline\u001b[0m\n",
      "\u001b[1m\n",
      "============================= Training pipeline =============================\u001b[0m\n",
      "\u001b[38;5;4m[i] Pipeline: ['tok2vec', 'ner']\u001b[0m\n",
      "\u001b[38;5;4m[i] Initial learn rate: 0.001\u001b[0m\n",
      "E    #       LOSS TOK2VEC  LOSS NER  ENTS_F  ENTS_P  ENTS_R  SCORE \n",
      "---  ------  ------------  --------  ------  ------  ------  ------\n",
      "  0       0          0.00    155.41    0.00    0.00    0.00    0.00\n",
      "  0     200       5869.97   6791.55   40.02   48.23   34.20    0.40\n",
      "  0     400        840.25   1842.64   80.56   81.88   79.29    0.81\n",
      "  1     600        249.37    980.38   87.51   89.08   86.00    0.88\n",
      "  1     800        550.93    812.07   91.14   91.86   90.43    0.91\n",
      "  1    1000        394.80    728.99   91.93   91.34   92.53    0.92\n",
      "  2    1200        486.97    635.26   92.17   91.55   92.79    0.92\n",
      "  2    1400        268.62    467.00   90.42   90.56   90.28    0.90\n",
      "  3    1600        642.54    511.61   93.04   92.34   93.76    0.93\n",
      "  3    1800        347.72    444.21   93.33   92.60   94.07    0.93\n",
      "  3    2000        675.01    572.63   94.50   93.39   95.64    0.94\n",
      "  4    2200        562.63    444.12   94.55   93.62   95.49    0.95\n",
      "  4    2400        585.28    323.71   94.36   93.28   95.47    0.94\n",
      "  5    2600        799.02    532.71   94.40   93.84   94.98    0.94\n",
      "  5    2800        912.99    285.52   95.44   94.60   96.29    0.95\n",
      "  5    3000        781.85    448.36   95.10   93.92   96.31    0.95\n",
      "  6    3200       1019.17    348.22   95.22   95.02   95.43    0.95\n",
      "  6    3400       1151.73    370.61   95.58   94.63   96.54    0.96\n",
      "  7    3600        649.55    375.29   95.87   94.61   97.16    0.96\n",
      "  7    3800        589.61    299.38   94.91   95.19   94.63    0.95\n",
      "  7    4000        831.22    424.05   96.29   95.67   96.91    0.96\n",
      "  8    4200        505.08    237.16   95.93   94.85   97.04    0.96\n",
      "  8    4400        798.79    402.72   95.72   96.00   95.43    0.96\n",
      "  9    4600        502.41    210.80   96.36   95.57   97.16    0.96\n",
      "  9    4800        421.00    183.66   95.75   95.59   95.90    0.96\n",
      "  9    5000       1718.67    426.31   96.20   95.02   97.41    0.96\n",
      " 10    5200       1425.22    461.21   96.79   96.65   96.93    0.97\n",
      " 10    5400        825.63    178.40   96.55   96.12   96.97    0.97\n",
      " 11    5600        775.91    207.48   95.73   93.92   97.61    0.96\n",
      " 11    5800        595.96    202.63   95.93   94.67   97.22    0.96\n",
      " 11    6000      20566.02    399.66   96.41   96.26   96.56    0.96\n",
      " 12    6200        714.30    212.36   97.10   96.65   97.55    0.97\n",
      " 12    6400        731.20    264.72   96.58   96.45   96.71    0.97\n",
      " 12    6600       1255.70    313.50   96.78   95.79   97.80    0.97\n",
      " 13    6800       1476.68    373.79   96.95   96.04   97.88    0.97\n",
      " 13    7000        799.89    174.78   97.01   96.48   97.55    0.97\n",
      " 14    7200        882.31    235.99   96.74   96.44   97.04    0.97\n",
      " 14    7400       1004.31    222.78   97.16   96.45   97.88    0.97\n",
      " 14    7600       1252.76    258.87   96.91   96.21   97.63    0.97\n",
      " 15    7800       2590.93    248.56   96.59   96.14   97.04    0.97\n",
      " 15    8000        802.27    177.67   97.39   96.92   97.86    0.97\n",
      " 16    8200       1592.82    241.31   97.39   96.48   98.31    0.97\n",
      " 16    8400       1567.44    177.99   97.22   96.27   98.19    0.97\n",
      " 16    8600       2023.93    329.15   97.40   97.62   97.18    0.97\n",
      " 17    8800       1313.74    248.69   96.95   96.38   97.53    0.97\n",
      " 17    9000       1373.95    213.56   97.37   96.69   98.06    0.97\n",
      " 18    9200        872.39    130.76   97.48   96.96   98.00    0.97\n",
      " 18    9400       1324.58    231.85   97.66   97.91   97.41    0.98\n",
      " 18    9600       4053.69    217.05   97.13   96.73   97.53    0.97\n",
      " 19    9800       1538.24    153.91   97.73   97.06   98.41    0.98\n",
      " 19   10000        998.33    175.34   97.86   97.39   98.33    0.98\n",
      " 20   10200       1546.72    224.45   97.46   96.49   98.46    0.97\n",
      " 20   10400       8889.93    272.01   97.47   97.00   97.94    0.97\n",
      " 20   10600       4578.83    221.22   97.74   97.74   97.74    0.98\n",
      " 21   10800       7267.33    246.06   97.09   96.50   97.69    0.97\n",
      " 21   11000       2110.42    230.03   97.71   97.17   98.25    0.98\n",
      " 22   11200       1701.38    151.58   97.63   97.07   98.19    0.98\n",
      " 22   11400       3550.83    179.24   97.86   97.27   98.46    0.98\n",
      " 22   11600       1997.58    196.03   97.86   97.16   98.58    0.98\n",
      " 23   11800       4421.47    225.26   97.28   96.84   97.74    0.97\n",
      " 23   12000       1880.45    198.97   97.60   96.71   98.52    0.98\n",
      " 23   12200       6961.15    132.61   97.66   97.40   97.92    0.98\n",
      " 24   12400       3888.20    180.42   97.91   97.09   98.74    0.98\n",
      " 24   12600       3216.36    220.97   97.06   95.75   98.39    0.97\n",
      " 25   12800      10477.28    194.63   97.47   96.53   98.44    0.97\n",
      " 25   13000       1265.26    135.76   97.73   97.33   98.15    0.98\n",
      " 25   13200       3032.88    270.72   97.53   97.33   97.74    0.98\n",
      " 26   13400       1095.00    123.85   97.85   97.29   98.41    0.98\n",
      " 26   13600       2842.16    254.55   97.65   96.45   98.89    0.98\n",
      " 27   13800       1073.89    113.57   97.92   97.14   98.70    0.98\n",
      " 27   14000       3849.91    176.53   97.83   97.37   98.29    0.98\n",
      " 27   14200       2656.75    204.20   97.43   96.79   98.09    0.97\n",
      " 28   14400       2399.77    204.28   98.09   97.61   98.58    0.98\n",
      " 29   14600       3518.02    305.98   97.54   97.30   97.78    0.98\n",
      " 29   14800       5849.09    305.04   98.21   97.47   98.97    0.98\n",
      " 30   15000       4078.16    371.61   98.57   98.40   98.74    0.99\n",
      " 32   15200       5387.56    403.94   98.70   98.48   98.91    0.99\n",
      " 33   15400       7945.34    330.10   98.59   98.18   98.99    0.99\n",
      " 34   15600       7190.20    346.58   98.76   98.35   99.18    0.99\n",
      " 35   15800       3380.77    298.95   98.67   98.26   99.07    0.99\n",
      " 37   16000       3033.18    308.02   98.79   98.31   99.28    0.99\n",
      " 38   16200       3772.29    365.67   98.83   98.31   99.36    0.99\n",
      " 39   16400      29480.40    251.24   98.79   98.31   99.28    0.99\n",
      " 40   16600       4159.44    286.08   99.00   98.95   99.05    0.99\n",
      " 42   16800       2433.34    225.48   98.97   98.79   99.16    0.99\n",
      " 43   17000       3031.36    253.94   98.85   98.77   98.93    0.99\n",
      " 44   17200       2947.00    254.31   98.81   98.51   99.11    0.99\n",
      " 45   17400       3237.91    258.15   99.10   98.97   99.22    0.99\n",
      " 47   17600       2994.31    285.83   99.07   99.11   99.03    0.99\n",
      " 48   17800       3114.51    244.01   98.98   98.63   99.34    0.99\n",
      " 49   18000       3011.82    194.12   98.89   98.39   99.40    0.99\n",
      " 51   18200       3294.95    298.95   99.05   98.75   99.34    0.99\n",
      " 52   18400       3288.80    235.47   98.99   98.73   99.26    0.99\n",
      " 53   18600       3565.44    195.81   98.94   98.67   99.22    0.99\n",
      " 54   18800       3074.74    235.20   98.99   98.71   99.28    0.99\n",
      " 56   19000       3731.71    231.88   99.04   98.67   99.40    0.99\n",
      "\u001b[38;5;2m[+] Saved pipeline to output directory\u001b[0m\n",
      "model-last\n"
     ]
    }
   ],
   "source": [
    "! python -m spacy train config.cfg --output ./ --paths.train ./training_data.spacy --paths.dev ./training_data.spacy"
   ]
  },
  {
   "cell_type": "code",
   "execution_count": 9,
   "id": "cf93c030-ff5d-4c6c-93ab-0b0127f2248c",
   "metadata": {},
   "outputs": [],
   "source": [
    "nlp_ner = spacy.load(\"C:/Users/Paula/OneDrive/IPEA/Militares_2/scripts/model-best\")"
   ]
  },
  {
   "cell_type": "code",
   "execution_count": 40,
   "id": "3b7e0224-d120-4996-a06f-68100af1847c",
   "metadata": {},
   "outputs": [],
   "source": [
    "doc = nlp_ner('''O DIRETOR-GERAL DO MATERIAL DA MARINHADIRETOR-GERAL DO MATERIAL DA MARINHA, no uso da delegação de competência que lhe foi conferida pela Portaria nº 9, de 9 de janeiro de 2002, do Comandante da Marinha, resolve: Art. 1o Designar os militares a seguir mencionados para realizarem missão no exterior: Capitão-de-Fragata (EN) PEDRO LAUREANO PIRES BOTELHO Capitão-de-Fragata (EN) ANTONIO BERNOTAVICIUS DE ARAUJO Capitão-de-Fragata (EN) JUAN RENATO DARGAINS Capitão-de-Fragata (EN) CLEBER OLIVEIRA DE SIQUEIRA Missão - Participar do conclave referente à Visita Técnica à DCN (projeto de submarinos), em cumprimento ao previsto no evento nº 76/I da Portaria nº 329/2001, do CM. Local - Lorient - França. Período - de 21 de maio a 14 de junho de 2002. Despesas Autorizadas - Passagens até US$ 4.000,00 e diárias US$ 35.840,00. Art. 2o A referida missão é enquadrada como eventual, administrativa, sem mudança de sede ou alteração da lotação do militar e sem dependentes, de acordo com os art. 1º e 4º, da Portaria nº 271, de 19 de outubro de 2001, do Comandante da Marinha, que está em consonância com os art. 3º e 6º da Lei 5.809, de 10 de outubro de 1972. Art. 3o Deverá ser observado o contido no item 3, alínea h do PIMAR. Art. 4o Esta Portaria entra em vigor na presente data. ALTE ESQ JERONYMO FRANCISCO MAC DOWELL GONÇALVES''')\n"
   ]
  },
  {
   "cell_type": "code",
   "execution_count": 41,
   "id": "e7e7eed3-b19f-43ce-b14c-961c7553c793",
   "metadata": {},
   "outputs": [
    {
     "data": {
      "text/html": [
       "<span class=\"tex2jax_ignore\"><div class=\"entities\" style=\"line-height: 2.5; direction: ltr\">O DIRETOR-GERAL DO MATERIAL DA MARINHADIRETOR-GERAL DO MATERIAL DA MARINHA, no uso da delegação de competência que lhe foi conferida pela Portaria nº 9, de 9 de janeiro de 2002, do Comandante da Marinha, resolve: Art. 1o Designar os militares a seguir mencionados para realizarem missão no exterior: \n",
       "<mark class=\"entity\" style=\"background: #ddd; padding: 0.45em 0.6em; margin: 0 0.25em; line-height: 1; border-radius: 0.35em;\">\n",
       "    Capitão-de-Fragata (EN)\n",
       "    <span style=\"font-size: 0.8em; font-weight: bold; line-height: 1; border-radius: 0.35em; vertical-align: middle; margin-left: 0.5rem\">PATENT</span>\n",
       "</mark>\n",
       " \n",
       "<mark class=\"entity\" style=\"background: #aa9cfc; padding: 0.45em 0.6em; margin: 0 0.25em; line-height: 1; border-radius: 0.35em;\">\n",
       "    PEDRO LAUREANO PIRES BOTELHO\n",
       "    <span style=\"font-size: 0.8em; font-weight: bold; line-height: 1; border-radius: 0.35em; vertical-align: middle; margin-left: 0.5rem\">PERSON</span>\n",
       "</mark>\n",
       " \n",
       "<mark class=\"entity\" style=\"background: #ddd; padding: 0.45em 0.6em; margin: 0 0.25em; line-height: 1; border-radius: 0.35em;\">\n",
       "    Capitão-de-Fragata (EN)\n",
       "    <span style=\"font-size: 0.8em; font-weight: bold; line-height: 1; border-radius: 0.35em; vertical-align: middle; margin-left: 0.5rem\">PATENT</span>\n",
       "</mark>\n",
       " \n",
       "<mark class=\"entity\" style=\"background: #aa9cfc; padding: 0.45em 0.6em; margin: 0 0.25em; line-height: 1; border-radius: 0.35em;\">\n",
       "    ANTONIO BERNOTAVICIUS DE ARAUJO\n",
       "    <span style=\"font-size: 0.8em; font-weight: bold; line-height: 1; border-radius: 0.35em; vertical-align: middle; margin-left: 0.5rem\">PERSON</span>\n",
       "</mark>\n",
       " \n",
       "<mark class=\"entity\" style=\"background: #ddd; padding: 0.45em 0.6em; margin: 0 0.25em; line-height: 1; border-radius: 0.35em;\">\n",
       "    Capitão-de-Fragata (EN)\n",
       "    <span style=\"font-size: 0.8em; font-weight: bold; line-height: 1; border-radius: 0.35em; vertical-align: middle; margin-left: 0.5rem\">PATENT</span>\n",
       "</mark>\n",
       " \n",
       "<mark class=\"entity\" style=\"background: #aa9cfc; padding: 0.45em 0.6em; margin: 0 0.25em; line-height: 1; border-radius: 0.35em;\">\n",
       "    JUAN RENATO DARGAINS\n",
       "    <span style=\"font-size: 0.8em; font-weight: bold; line-height: 1; border-radius: 0.35em; vertical-align: middle; margin-left: 0.5rem\">PERSON</span>\n",
       "</mark>\n",
       " \n",
       "<mark class=\"entity\" style=\"background: #ddd; padding: 0.45em 0.6em; margin: 0 0.25em; line-height: 1; border-radius: 0.35em;\">\n",
       "    Capitão-de-Fragata (EN)\n",
       "    <span style=\"font-size: 0.8em; font-weight: bold; line-height: 1; border-radius: 0.35em; vertical-align: middle; margin-left: 0.5rem\">PATENT</span>\n",
       "</mark>\n",
       " \n",
       "<mark class=\"entity\" style=\"background: #aa9cfc; padding: 0.45em 0.6em; margin: 0 0.25em; line-height: 1; border-radius: 0.35em;\">\n",
       "    CLEBER OLIVEIRA DE SIQUEIRA\n",
       "    <span style=\"font-size: 0.8em; font-weight: bold; line-height: 1; border-radius: 0.35em; vertical-align: middle; margin-left: 0.5rem\">PERSON</span>\n",
       "</mark>\n",
       " \n",
       "<mark class=\"entity\" style=\"background: #ddd; padding: 0.45em 0.6em; margin: 0 0.25em; line-height: 1; border-radius: 0.35em;\">\n",
       "    Missão - Participar do conclave referente à Visita Técnica à DCN (projeto de submarinos)\n",
       "    <span style=\"font-size: 0.8em; font-weight: bold; line-height: 1; border-radius: 0.35em; vertical-align: middle; margin-left: 0.5rem\">TYPE</span>\n",
       "</mark>\n",
       ", em cumprimento ao previsto no evento nº 76/I da Portaria nº 329/2001, do CM. Local - \n",
       "<mark class=\"entity\" style=\"background: #ddd; padding: 0.45em 0.6em; margin: 0 0.25em; line-height: 1; border-radius: 0.35em;\">\n",
       "    Lorient\n",
       "    <span style=\"font-size: 0.8em; font-weight: bold; line-height: 1; border-radius: 0.35em; vertical-align: middle; margin-left: 0.5rem\">CITY</span>\n",
       "</mark>\n",
       " - \n",
       "<mark class=\"entity\" style=\"background: #ddd; padding: 0.45em 0.6em; margin: 0 0.25em; line-height: 1; border-radius: 0.35em;\">\n",
       "    França.\n",
       "    <span style=\"font-size: 0.8em; font-weight: bold; line-height: 1; border-radius: 0.35em; vertical-align: middle; margin-left: 0.5rem\">COUNTRY</span>\n",
       "</mark>\n",
       " Período - de 21 de maio a 14 de junho de 2002. Despesas Autorizadas - Passagens até US$ 4.000,00 e diárias US$ 35.840,00. Art. 2o A referida missão é enquadrada como eventual, administrativa, sem mudança de sede ou alteração da lotação do militar e sem dependentes, de acordo com os art. 1º e 4º, da Portaria nº 271, de 19 de outubro de 2001, do Comandante da Marinha, que está em consonância com os art. 3º e 6º da Lei 5.809, de 10 de outubro de 1972. Art. 3o Deverá ser observado o contido no item 3, alínea h do PIMAR. Art. 4o Esta Portaria entra em vigor na presente data. ALTE ESQ JERONYMO FRANCISCO MAC \n",
       "<mark class=\"entity\" style=\"background: #aa9cfc; padding: 0.45em 0.6em; margin: 0 0.25em; line-height: 1; border-radius: 0.35em;\">\n",
       "    DOWELL GONÇALVES\n",
       "    <span style=\"font-size: 0.8em; font-weight: bold; line-height: 1; border-radius: 0.35em; vertical-align: middle; margin-left: 0.5rem\">PERSON</span>\n",
       "</mark>\n",
       "</div></span>"
      ],
      "text/plain": [
       "<IPython.core.display.HTML object>"
      ]
     },
     "metadata": {},
     "output_type": "display_data"
    }
   ],
   "source": [
    "spacy.displacy.render(doc, style=\"ent\", jupyter=True) # display in Jupyter"
   ]
  }
 ],
 "metadata": {
  "kernelspec": {
   "display_name": "Python 3 (ipykernel)",
   "language": "python",
   "name": "python3"
  },
  "language_info": {
   "codemirror_mode": {
    "name": "ipython",
    "version": 3
   },
   "file_extension": ".py",
   "mimetype": "text/x-python",
   "name": "python",
   "nbconvert_exporter": "python",
   "pygments_lexer": "ipython3",
   "version": "3.12.2"
  }
 },
 "nbformat": 4,
 "nbformat_minor": 5
}
