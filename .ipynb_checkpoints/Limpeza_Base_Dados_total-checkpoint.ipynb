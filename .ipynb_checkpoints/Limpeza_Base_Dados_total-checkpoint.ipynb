{
 "cells": [
  {
   "cell_type": "markdown",
   "id": "d21e5744-2096-45d1-8fc4-8e3d04479e5c",
   "metadata": {},
   "source": [
    "# Limpeza da Base de Dados para extrair país, cidade, tipo de afastamento, patente e período de afastamento."
   ]
  },
  {
   "cell_type": "code",
   "execution_count": 1,
   "id": "2f49841b-df2b-43e4-be99-59165e9af33c",
   "metadata": {},
   "outputs": [],
   "source": [
    "import re\n",
    "import pandas as pd\n",
    "from bs4 import BeautifulSoup"
   ]
  },
  {
   "cell_type": "code",
   "execution_count": 2,
   "id": "0fbc548e-fdc6-48b0-9eed-10a1a5b28e5c",
   "metadata": {},
   "outputs": [],
   "source": [
    "# Carregando os dados\n",
    "dados_diario_uniao_militares_afastamentos = pd.read_excel(r\"C:\\Users\\paula\\OneDrive\\IPEA\\Militares_2\\bases\\dados_diario_uniao_militares_afastamentos.xlsx\")\n",
    "\n",
    "# Armazenando uma cópia do texto original em uma coluna temporária\n",
    "dados_diario_uniao_militares_afastamentos['Texto_Reduzido'] = dados_diario_uniao_militares_afastamentos['Texto']\n",
    "\n",
    "# Convertendo o texto para minúsculas apenas para o filtro\n",
    "dados_diario_uniao_militares_afastamentos['Texto_filtro'] = dados_diario_uniao_militares_afastamentos['Texto'].str.lower()\n",
    "\n",
    "# Filtrando o DataFrame para manter apenas as observações que contenham as palavras específicas\n",
    "filtro = dados_diario_uniao_militares_afastamentos['Texto_filtro'].str.contains('nomear|autorizar|designar', case=False)\n",
    "dados_filtrados_total = dados_diario_uniao_militares_afastamentos[filtro].copy()\n",
    "\n",
    "# Removendo a coluna de filtro\n",
    "dados_filtrados_total.drop(columns=['Texto_filtro'], inplace=True)\n",
    "\n",
    "DROP artCategory THAT CONTAINS \"UNIVERSIDADE\" "
   ]
  },
  {
   "cell_type": "code",
   "execution_count": 3,
   "id": "fdfdc1d3-1b1e-4eb6-93cb-05ed4291447d",
   "metadata": {},
   "outputs": [],
   "source": [
    "# Função para extrair o texto das tags <p> com as classes 'identifica pdf-CENTER' e 'identifica'\n",
    "def extrair_identificacao(texto_html):\n",
    "    soup = BeautifulSoup(texto_html, 'html.parser')\n",
    "    identificacoes = soup.find_all('p', class_=lambda x: x and 'identifica' in x.split())\n",
    "    texto_identificacao = ''\n",
    "    for identificacao in identificacoes:\n",
    "        texto_identificacao += identificacao.get_text(strip=True) + '\\n'\n",
    "        identificacao.decompose()  # Remover a identificação do texto original\n",
    "    return texto_identificacao.strip()\n",
    "\n",
    "# Função para extrair o texto reduzido, sem a identificação\n",
    "def extrair_texto_reduzido(texto_html):\n",
    "    soup = BeautifulSoup(texto_html, 'html.parser')\n",
    "    # Remover as tags <p> com as classes 'identifica pdf-CENTER' e 'identifica' do texto\n",
    "    for identificacao in soup.find_all('p', class_=lambda x: x and 'identifica' in x.split()):\n",
    "        identificacao.decompose()\n",
    "    texto_reduzido = soup.get_text(separator='\\n', strip=True)\n",
    "    return texto_reduzido.strip()\n",
    "\n",
    "# Aplicar as funções para criar as variáveis Portaria_Especifica e Texto_Reduzido\n",
    "dados_filtrados_total['Portaria_Especifica'] = dados_filtrados_total['Texto'].apply(extrair_identificacao)\n",
    "dados_filtrados_total['Texto_Reduzido'] = dados_filtrados_total['Texto'].apply(extrair_texto_reduzido)"
   ]
  },
  {
   "cell_type": "code",
   "execution_count": 4,
   "id": "71c8f569-b312-4961-a2fc-2598f654260f",
   "metadata": {},
   "outputs": [],
   "source": [
    "# Salvando os resultados em um arquivo Excel\n",
    "pasta_base = \"C:/Users/paula/OneDrive/IPEA/Militares_2/bases\"\n",
    "dados_filtrados_total.to_excel(f\"{pasta_base}/dados_filtrados_total.xlsx\", index=False)"
   ]
  },
  {
   "cell_type": "markdown",
   "id": "4f2b6557-633d-47c2-8d7a-db6ddfed5038",
   "metadata": {},
   "source": [
    "### Filtrando a coluna para que as portarias repitidas em uma unica célula sejam consideradas parte do df"
   ]
  },
  {
   "cell_type": "code",
   "execution_count": 6,
   "id": "7739ecd5-4bb3-4287-af55-08b0290c9be3",
   "metadata": {},
   "outputs": [],
   "source": [
    "# Função para contar o número de ocorrências de 'nomear', 'autorizar' ou 'designar' no texto original\n",
    "def contar_ocorrencias_reduzido(texto):\n",
    "    padrao = re.compile(r'\\b(nomear|autorizar|designar|autoriza)\\b', re.IGNORECASE)\n",
    "    return len(re.findall(padrao, texto))\n",
    "\n",
    "# Adicionando uma nova coluna com o número de ocorrências\n",
    "dados_filtrados_total['n_contagem_texto_original'] = dados_filtrados_total['Texto_Reduzido'].apply(contar_ocorrencias_reduzido)\n",
    "\n",
    "# Salvando os resultados em um arquivo Excel\n",
    "pasta_base = \"C:/Users/paula/OneDrive/IPEA/Militares_2/bases\"\n",
    "dados_filtrados_total.to_excel(f\"{pasta_base}/dados_filtrados_total.xlsx\", index=False)"
   ]
  },
  {
   "cell_type": "code",
   "execution_count": 7,
   "id": "79b11110-87ec-440b-ad20-1c65af3b4e8e",
   "metadata": {},
   "outputs": [],
   "source": [
    "# Função para separar os afastamentos\n",
    "def separar_afastamentos(texto):\n",
    "    padrao_regex = r'(\\s*(O\\s+(CHEFE\\s+DO\\s+ESTADO-MAIOR\\s+DA\\s+ARMADA|MINISTRO\\s+DE\\s+ESTADO\\s+DA\\s+DEFESA|CHEFE\\s+DO\\s+ESTADO-MAIOR\\s+CONJUNTO\\s+DAS\\s+FORÇAS\\s+ARMADAS|DIRETOR-GERAL\\s+DO\\s+MATERIAL\\s+DA\\s+MARINHA|SECRETÁRIO-GERAL\\s+DO\\s+MINISTÉRIO\\s+DA\\s+DEFESA|DIRETOR-GERAL\\s+DE\\s+DESENVOLVIMENTO\\s+NUCLEAR\\s+E\\s+TECNOLÓGICO\\s+DA\\s+MARINHA|COMANDANTE\\s+DA\\s+MARINHA|DIRETOR-GERAL\\s+DE\\s+NAVEGAÇÃO|COMANDANTE\\s+DO\\s+EXÉRCITO|COMANDANTE\\s+DA\\s+ESCOLA\\s+SUPERIOR\\s+DE\\s+GUERRA|CHEFE\\s+DO\\s+ESTADO-MAIOR\\s+DA\\s+AERONÁUTICA))\\s*)'\n",
    "    partes = re.split(padrao_regex, texto) \"O CHEFE DE GABINETE DO MINISTRO DE ESTADO DA DEFESA\" \"O COMANDANTE DA AERONÁUTICA\"\n",
    "    \n",
    "    # Lista para armazenar os afastamentos\n",
    "    afastamentos = []\n",
    "    afastamento_atual = \"\"\n",
    "    \n",
    "    for parte in partes:\n",
    "        if parte.strip() in [\"O CHEFE DO ESTADO-MAIOR DA ARMADA\", \"O MINISTRO DE ESTADO DA DEFESA\", \"O CHEFE DO ESTADO-MAIOR CONJUNTO DAS FORÇAS ARMADAS\", \"O DIRETOR-GERAL DO MATERIAL DA MARINHA\", \"O SECRETÁRIO-GERAL DO MINISTÉRIO DA DEFESA\", \"O DIRETOR-GERAL DE DESENVOLVIMENTO NUCLEAR E TECNOLÓGICO DA MARINHA\", \"O COMANDANTE DA MARINHA\", \"O DIRETOR-GERAL DE NAVEGAÇÃO\", \"O COMANDANTE DO EXÉRCITO\", \"O COMANDANTE DA ESCOLA SUPERIOR DE GUERRA\", \"O CHEFE DO ESTADO-MAIOR DA AERONÁUTICA\"]:\n",
    "            # Se a parte atual for uma das marcas, inicia um novo afastamento\n",
    "            afastamento_atual = parte\n",
    "        elif afastamento_atual:\n",
    "            # Se já estiver em um afastamento, adiciona a parte ao afastamento atual\n",
    "            afastamento_atual += parte\n",
    "            # Se encontrar o próximo afastamento ou chegar ao final do texto, adiciona o afastamento à lista\n",
    "            if re.search(padrao_regex, parte.strip()) or parte == partes[-1]:\n",
    "                afastamentos.append(afastamento_atual.strip())\n",
    "                afastamento_atual = \"\"\n",
    "    \n",
    "    return afastamentos\n",
    "\n",
    "# Lista para armazenar as novas linhas\n",
    "novas_linhas = []\n",
    "\n",
    "# Iterar sobre as linhas do DataFrame original\n",
    "for index, row in dados_filtrados_total.iterrows():\n",
    "    # Separar os afastamentos do texto\n",
    "    afastamentos = separar_afastamentos(row['Texto'])\n",
    "    \n",
    "    # Se houver afastamentos\n",
    "    if afastamentos:\n",
    "        # Adicionar a primeira linha com o primeiro afastamento\n",
    "        afastamento_com_nome = afastamentos[0]\n",
    "        nova_linha = row.copy()\n",
    "        nova_linha['Texto'] = afastamento_com_nome\n",
    "        nova_linha['n_contagem_texto_reduzido'] = contar_ocorrencias_reduzido(afastamento_com_nome)\n",
    "        novas_linhas.append(nova_linha)\n",
    "        \n",
    "        # Para cada afastamento encontrado além do primeiro\n",
    "        for afastamento in afastamentos[1:]:\n",
    "            # Criar uma nova linha com as informações da linha original\n",
    "            nova_linha = row.copy()\n",
    "            # Atualizar o texto para o afastamento atual\n",
    "            nova_linha['Texto'] = afastamento\n",
    "            # Contar ocorrências de 'nomear', 'autorizar' ou 'designar' no novo texto\n",
    "            nova_linha['n_contagem_texto_reduzido'] = contar_ocorrencias_reduzido(afastamento)\n",
    "            # Adicionar a nova linha ao dataframe de novas linhas\n",
    "            novas_linhas.append(nova_linha)\n",
    "    else:\n",
    "        # Se não houver afastamentos, manter a linha original\n",
    "        novas_linhas.append(row)"
   ]
  },
  {
   "cell_type": "code",
   "execution_count": 8,
   "id": "98d60421-ffb4-4c7a-b9b2-60703e22d4ce",
   "metadata": {},
   "outputs": [],
   "source": [
    "# Atualizar o DataFrame com as novas linhas\n",
    "dados_filtrados_split = pd.DataFrame(novas_linhas)\n",
    "dados_filtrados_split['n_contagem_texto_reduzido'] = dados_filtrados_split['n_contagem_texto_reduzido'].fillna(1)"
   ]
  },
  {
   "cell_type": "code",
   "execution_count": 9,
   "id": "3c720a96-5f36-46d9-93e2-c1f34d785aba",
   "metadata": {},
   "outputs": [],
   "source": [
    "# Salvando os resultados em um arquivo Excel\n",
    "pasta_base = \"C:/Users/paula/OneDrive/IPEA/Militares_2/bases\"\n",
    "dados_filtrados_split.to_excel(f\"{pasta_base}/dados_filtrados_split.xlsx\", index=False)"
   ]
  },
  {
   "cell_type": "markdown",
   "id": "737d0c5d-fb99-42cb-b267-997c83ceaf13",
   "metadata": {},
   "source": [
    "### Limpando a variavel Texto_Reduzido"
   ]
  },
  {
   "cell_type": "code",
   "execution_count": 10,
   "id": "073a8175-95b0-4ee0-aee1-f85ee179d8c9",
   "metadata": {},
   "outputs": [],
   "source": [
    "# Filtrar linhas com contagem diferente de zero\n",
    "dados_filtrados_split = dados_filtrados_split[dados_filtrados_split['n_contagem_texto_reduzido'] != 0]\n",
    "\n",
    "# Remover quebras de linha do Texto_Reduzido e substituir por espaços\n",
    "dados_filtrados_split['Texto_Reduzido'] = dados_filtrados_split['Texto_Reduzido'].str.replace('\\n', ' ')"
   ]
  },
  {
   "cell_type": "code",
   "execution_count": 11,
   "id": "ff2d6af1-3448-4474-a29f-a302ec58abbc",
   "metadata": {},
   "outputs": [],
   "source": [
    "# Salvando os resultados em um arquivo Excel\n",
    "pasta_base = \"C:/Users/paula/OneDrive/IPEA/Militares_2/bases\"\n",
    "dados_filtrados_split.to_excel(f\"{pasta_base}/base_afastamentos_militares_final.xlsx\", index=False)"
   ]
  },
  {
   "cell_type": "markdown",
   "id": "f539a72b-4e6d-47fc-af0c-fea7a8c4a2e8",
   "metadata": {},
   "source": [
    "### Tratar Base Final e Transformar em texto para Treinamento do Modelo"
   ]
  },
  {
   "cell_type": "code",
   "execution_count": 19,
   "id": "23315ee6-52b2-4654-87db-9bf999ea053d",
   "metadata": {},
   "outputs": [
    {
     "name": "stdout",
     "output_type": "stream",
     "text": [
      "Base de dados tratada e arquivo de texto único gerados com sucesso.\n"
     ]
    }
   ],
   "source": [
    "# Carrega a base de dados\n",
    "caminho_arquivo = \"C:/Users/paula/OneDrive/IPEA/Militares_2/bases/base_afastamentos_militares_final.xlsx\"\n",
    "base_afastamentos_militares_final = pd.read_excel(caminho_arquivo)\n",
    "\n",
    "# Função para remover tags HTML e deixar o texto corrido\n",
    "def remover_html(texto):\n",
    "    if texto:\n",
    "        # Remove as tags HTML\n",
    "        soup = BeautifulSoup(texto, 'html.parser')\n",
    "        texto_sem_html = soup.get_text(separator=' ')\n",
    "        # Remove espaços extras\n",
    "        texto_corrido = re.sub(r'\\s+', ' ', texto_sem_html).strip()\n",
    "        return texto_corrido\n",
    "    return texto\n",
    "\n",
    "# Aplicar a função de remover HTML à coluna 'Texto'\n",
    "base_afastamentos_militares_final['Texto'] = base_afastamentos_militares_final['Texto'].apply(remover_html)\n",
    "\n",
    "# Escolha um nome para o novo arquivo Excel\n",
    "caminho_novo_arquivo = \"C:/Users/paula/OneDrive/IPEA/Militares_2//bases/base_afastamentos_militares_tratados.xlsx\"\n",
    "\n",
    "# Salvar a nova base de dados em um novo arquivo Excel\n",
    "base_afastamentos_militares_final.to_excel(caminho_novo_arquivo, index=False)\n",
    "\n",
    "# Concatenar todos os textos tratados em uma única string\n",
    "texto_unico = '\\n'.join(filter(lambda texto: texto is not None, base_afastamentos_militares_final['Texto']))\n",
    "\n",
    "# Escolha um nome para o arquivo de texto único\n",
    "nome_arquivo_txt = \"C:/Users/paula/OneDrive/IPEA/Militares_2/texto_tratado_unico.txt\"\n",
    "\n",
    "# Salvar a string em um arquivo de texto\n",
    "with open(nome_arquivo_txt, 'w', encoding='utf-8') as arquivo_txt:\n",
    "    arquivo_txt.write(texto_unico)\n",
    "\n",
    "print(\"Base de dados tratada e arquivo de texto único gerados com sucesso.\")"
   ]
  },
  {
   "cell_type": "markdown",
   "id": "2abf77f0-4bba-48bd-9525-35610899d0d2",
   "metadata": {},
   "source": [
    "### Criar as bases separadas: NOMEAR, DESIGNAR E AUTORIZAR"
   ]
  },
  {
   "cell_type": "code",
   "execution_count": 23,
   "id": "0e331152-b1e3-4be3-947c-c869baa079e4",
   "metadata": {},
   "outputs": [
    {
     "name": "stdout",
     "output_type": "stream",
     "text": [
      "Número de células com duas ou mais ocorrências diferentes: 126\n",
      "                                                  Texto\n",
      "36    PORTARIAS DE 11 DE ABRIL DE 2002 O Reitor da U...\n",
      "78    PORTARIAS GC1 DE 6 DE JUNHO DE 2002 O COMANDAN...\n",
      "155   DESPACHO DA REITORA Em 31 de outubro de 2002 N...\n",
      "157   PORTARIAS GC1, DE 6 DE NOVEMBRO DE 2002 O COMA...\n",
      "183   O MINISTRO DE ESTADO DA DEFESAMINISTRO DE ESTA...\n",
      "...                                                 ...\n",
      "6961  O DIRETOR-GERAL DE DESENVOLVIMENTO NUCLEAR E T...\n",
      "7652  PORTARIA Nº 335/CTMSP, DE 25 DE SETEMBRO DE 20...\n",
      "7703  PORTARIA Nº 335/CTMSP, DE 25 DE SETEMBRO DE 20...\n",
      "7863  PORTARIA Nº 267/CTMSP, DE 12 DE AGOSTO DE 2019...\n",
      "7963  O DIRETOR-GERAL DE DESENVOLVIMENTO NUCLEAR E T...\n",
      "\n",
      "[126 rows x 1 columns]\n"
     ]
    }
   ],
   "source": [
    "# Carregar a base de dados tratada\n",
    "caminho_arquivo_tratado = \"C:/Users/paula/OneDrive/IPEA/Militares_2/base_afastamentos_militares_tratados.xlsx\"\n",
    "base_tratada = pd.read_excel(caminho_arquivo_tratado)\n",
    "\n",
    "# Função para verificar se uma célula contém duas ou mais palavras-chave diferentes\n",
    "def contem_multiplas_ocorrencias_diferentes(texto):\n",
    "    palavras_chave = ['AUTORIZAR', 'AUTORIZA', 'NOMEAR', 'DESIGNAR']\n",
    "    ocorrencias = set()\n",
    "    \n",
    "    for palavra in palavras_chave:\n",
    "        if re.search(rf'\\b{palavra}\\b', texto, re.IGNORECASE):\n",
    "            ocorrencias.add(palavra)\n",
    "    \n",
    "    return len(ocorrencias) > 1\n",
    "\n",
    "# Aplicar a função para encontrar células com múltiplas ocorrências diferentes\n",
    "multiplas_ocorrencias_diferentes = base_tratada[base_tratada['Texto'].apply(contem_multiplas_ocorrencias_diferentes)]\n",
    "\n",
    "# Exibir o resultado\n",
    "print(f\"Número de células com duas ou mais ocorrências diferentes: {len(multiplas_ocorrencias_diferentes)}\")\n",
    "print(multiplas_ocorrencias_diferentes[['Texto']])"
   ]
  },
  {
   "cell_type": "code",
   "execution_count": null,
   "id": "8e0a29c1-85fb-4a95-8670-61b02d730bbe",
   "metadata": {},
   "outputs": [],
   "source": [
    "\n",
    "# Função para filtrar o texto com base em palavras-chave\n",
    "def filtrar_por_palavra_chave(df, palavra_chave):\n",
    "    return df[df['Texto'].str.contains(palavra_chave, case=False, na=False)]\n",
    "\n",
    "# Filtra as portarias que contêm \"NOMEAR\"\n",
    "base_nomear = filtrar_por_palavra_chave(base_tratada, 'NOMEAR')\n",
    "\n",
    "# Filtra as portarias que contêm \"DESIGNAR\"\n",
    "base_designar = filtrar_por_palavra_chave(base_tratada, 'DESIGNAR')\n",
    "\n",
    "# Filtra as portarias que contêm \"AUTORIZAR\" ou \"AUTORIZA\"\n",
    "base_autorizar = base_tratada[base_tratada['Texto'].str.contains('AUTORIZAR|AUTORIZA', case=False, na=False)]\n",
    "\n",
    "# Remove duplicatas após a filtragem para evitar contar linhas repetidas\n",
    "base_filtrada_unica = pd.concat([base_nomear, base_designar, base_autorizar]).drop_duplicates()\n",
    "\n",
    "# Salvar as novas bases de dados\n",
    "caminho_base_nomear = \"C:/Users/paula/OneDrive/IPEA/Militares_2/base_nomear.xlsx\"\n",
    "caminho_base_designar = \"C:/Users/paula/OneDrive/IPEA/Militares_2/base_designar.xlsx\"\n",
    "caminho_base_autorizar = \"C:/Users/paula/OneDrive/IPEA/Militares_2/base_autorizar.xlsx\"\n",
    "\n",
    "base_nomear.to_excel(caminho_base_nomear, index=False)\n",
    "base_designar.to_excel(caminho_base_designar, index=False)\n",
    "base_autorizar.to_excel(caminho_base_autorizar, index=False)\n",
    "\n",
    "# Calcular as perdas de linhas\n",
    "total_linhas_original = len(base_tratada)\n",
    "total_linhas_filtradas_unicas = len(base_filtrada_unica)\n",
    "linhas_perdidas = total_linhas_original - total_linhas_filtradas_unicas\n",
    "\n",
    "# Imprimir resultados\n",
    "print(f\"Total de linhas na base original: {total_linhas_original}\")\n",
    "print(f\"Total de linhas após filtragem (únicas): {total_linhas_filtradas_unicas}\")\n",
    "print(f\"Linhas perdidas: {linhas_perdidas}\")\n",
    "print(\"Bases de dados filtradas foram salvas com sucesso.\")"
   ]
  }
 ],
 "metadata": {
  "kernelspec": {
   "display_name": "Python 3 (ipykernel)",
   "language": "python",
   "name": "python3"
  },
  "language_info": {
   "codemirror_mode": {
    "name": "ipython",
    "version": 3
   },
   "file_extension": ".py",
   "mimetype": "text/x-python",
   "name": "python",
   "nbconvert_exporter": "python",
   "pygments_lexer": "ipython3",
   "version": "3.12.2"
  }
 },
 "nbformat": 4,
 "nbformat_minor": 5
}
